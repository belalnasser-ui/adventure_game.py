{
  "nbformat": 4,
  "nbformat_minor": 0,
  "metadata": {
    "colab": {
      "provenance": [],
      "authorship_tag": "ABX9TyMfuE6qLlMmgC/xnsMU5G4E",
      "include_colab_link": true
    },
    "kernelspec": {
      "name": "python3",
      "display_name": "Python 3"
    },
    "language_info": {
      "name": "python"
    }
  },
  "cells": [
    {
      "cell_type": "markdown",
      "metadata": {
        "id": "view-in-github",
        "colab_type": "text"
      },
      "source": [
        "<a href=\"https://colab.research.google.com/github/belalnasser-ui/adventure_game.py/blob/main/adventure_game_py.ipynb\" target=\"_parent\"><img src=\"https://colab.research.google.com/assets/colab-badge.svg\" alt=\"Open In Colab\"/></a>"
      ]
    },
    {
      "cell_type": "code",
      "execution_count": null,
      "metadata": {
        "colab": {
          "base_uri": "https://localhost:8080/"
        },
        "id": "0EYaTBUQJJys",
        "outputId": "a3c2f8e1-4f22-4c1e-fe4e-d8fe302be10e"
      },
      "outputs": [
        {
          "output_type": "stream",
          "name": "stdout",
          "text": [
            "you find yourself in an island in Italy where there are magical creatures like chimpanzini banani, tralaralo tralla,tung tung tung tung sahur ,bombardino crocodilo and caputino assasino\n",
            "you have a sword but it isnt very powerful \n",
            "you stumble into a cave and house\n",
            "do you enter the cave or the house\n",
            "enter 1 you enter the cave\n",
            "enter 2 you enter the house\n",
            "enter 1 or 2:1\n",
            "you enter the cave(+5 points)\n",
            "you walk in the cave then find a magical sword(+5 points)\n",
            "you stumble into a monster\n",
            "the monster is \n",
            "caputino assasino\n",
            "you have to fight it\n",
            "you win(+10 points)\n",
            "you go back to your home and you sit down to rest and you think about the adveture you had today and then go to sleep\n",
            "your total points :20\n",
            "you win\n",
            "game over\n"
          ]
        }
      ],
      "source": [
        "import random\n",
        "import time\n",
        "points=0\n",
        "\n",
        "def play_game():\n",
        "  global points\n",
        "  print(\"you find yourself in an island in Italy where there are magical creatures like chimpanzini banani, tralaralo tralla,tung tung tung tung sahur ,bombardino crocodilo and caputino assasino\")\n",
        "  time.sleep(2)\n",
        "  print(\"you have a sword but it isnt very powerful \")\n",
        "  time.sleep(2)\n",
        "  print(\"you stumble into a cave and house\")\n",
        "  time.sleep(2)\n",
        "  print(\"do you enter the cave or the house\")\n",
        "  time.sleep(2)\n",
        "  print(\"enter 1 you enter the cave\")\n",
        "  time.sleep(2)\n",
        "  print(\"enter 2 you enter the house\")\n",
        "  time.sleep(2)\n",
        "  choice=int(input(\"enter 1 or 2:\"))\n",
        "  def cave():\n",
        "      print(\"you enter the cave(+5 points)\")\n",
        "      time.sleep(2)\n",
        "      print(\"you walk in the cave then find a magical sword(+5 points)\")\n",
        "      time.sleep(2)\n",
        "  def house():\n",
        "      print(\"you enter the house(+5 points)\")\n",
        "      time.sleep(2)\n",
        "      print(\"you walk in the house then find nothing(-5 points)\")\n",
        "      time.sleep(2)\n",
        "  while choice > 2 or choice < 1:\n",
        "        print(\"please enter 1 or 2\")\n",
        "        choice=int(input(\"enter 1 or 2:\"))\n",
        "  if choice == 1:\n",
        "       cave()\n",
        "       points = 10\n",
        "  else:\n",
        "       house()\n",
        "       points = 0\n",
        "  print(\"you stumble into a monster\")\n",
        "  time.sleep(2)\n",
        "  print(\"the monster is \")\n",
        "  time.sleep(2)\n",
        "  monster=random.choice([\"tralarelo tralara\", \"tung tung tung sahur\", \"bombardino crocodilo\", \"caputino assasino\", \"chimpanzini banananini\"])\n",
        "  print(monster)\n",
        "  time.sleep(2)\n",
        "  print(\"you have to fight it\")\n",
        "  time.sleep(2)\n",
        "  print(\"you win(+10 points)\")\n",
        "  time.sleep(2)\n",
        "  points= points + 10\n",
        "  print(\"you go back to your home and you sit down to rest and you think about the adveture you had today and then go to sleep\")\n",
        "  time.sleep(2)\n",
        "  print(f\"your total points :{points}\")\n",
        "  if points == 20:\n",
        "      print(\"you win\")\n",
        "  else:\n",
        "      print(\"you lose\")\n",
        "  print(\"game over\")\n",
        "play_game()"
      ]
    },
    {
      "cell_type": "code",
      "source": [],
      "metadata": {
        "id": "QOV5a1AgQlve"
      },
      "execution_count": null,
      "outputs": []
    }
  ]
}